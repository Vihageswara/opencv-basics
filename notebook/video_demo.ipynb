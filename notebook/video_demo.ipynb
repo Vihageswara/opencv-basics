{
 "cells": [
  {
   "cell_type": "code",
   "execution_count": 2,
   "metadata": {},
   "outputs": [],
   "source": [
    "import cv2\n",
    "import matplotlib.pyplot as plt\n",
    "import numpy as np\n",
    "import os\n",
    "from pathlib import Path"
   ]
  },
  {
   "cell_type": "code",
   "execution_count": 3,
   "metadata": {},
   "outputs": [],
   "source": [
    "cam_idx = 0\n",
    "cap = cv2.VideoCapture(cam_idx)\n",
    "\n",
    "while True:\n",
    "    # Capturing the frame\n",
    "    ret, frame = cap.read()\n",
    "    # print(ret)\n",
    "    # if not ret:\n",
    "    #     print(\"nothing captured\")\n",
    "    #     break\n",
    "\n",
    "\n",
    "    # Put text on image\n",
    "    font = cv2.FONT_ITALIC\n",
    "    predicted_class = \"Sunny\" #<< from your model\n",
    "    # print(x)\n",
    "    # print(frame.shape)\n",
    "    cv2.putText(frame, predicted_class, (480//2, 640//2), font, 1, (255, 0, 0), 2)\n",
    "    cv2.imshow(\"vid frame\", frame)\n",
    "    \n",
    "    if cv2.waitKey(1) & 0xFF == ord('q'):\n",
    "        break\n",
    "\n",
    "cap.release()\n",
    "cv2.destroyAllWindows()"
   ]
  },
  {
   "cell_type": "code",
   "execution_count": 8,
   "metadata": {},
   "outputs": [
    {
     "ename": "KeyboardInterrupt",
     "evalue": "",
     "output_type": "error",
     "traceback": [
      "\u001b[1;31m---------------------------------------------------------------------------\u001b[0m",
      "\u001b[1;31mKeyboardInterrupt\u001b[0m                         Traceback (most recent call last)",
      "\u001b[1;32m~\\AppData\\Local\\Temp\\ipykernel_14536\\1075109909.py\u001b[0m in \u001b[0;36m<module>\u001b[1;34m\u001b[0m\n\u001b[0;32m     16\u001b[0m     \u001b[0mcv2\u001b[0m\u001b[1;33m.\u001b[0m\u001b[0mimwrite\u001b[0m\u001b[1;33m(\u001b[0m\u001b[1;34mf\"samples/{sample_class}/sample_{img_idx}.jpg\"\u001b[0m\u001b[1;33m,\u001b[0m \u001b[0mframe\u001b[0m\u001b[1;33m)\u001b[0m\u001b[1;33m\u001b[0m\u001b[1;33m\u001b[0m\u001b[0m\n\u001b[0;32m     17\u001b[0m     \u001b[0mimg_idx\u001b[0m \u001b[1;33m+=\u001b[0m \u001b[1;36m1\u001b[0m\u001b[1;33m\u001b[0m\u001b[1;33m\u001b[0m\u001b[0m\n\u001b[1;32m---> 18\u001b[1;33m     \u001b[1;32mif\u001b[0m \u001b[0mcv2\u001b[0m\u001b[1;33m.\u001b[0m\u001b[0mwaitKey\u001b[0m\u001b[1;33m(\u001b[0m\u001b[1;36m1\u001b[0m\u001b[1;33m)\u001b[0m \u001b[1;33m&\u001b[0m \u001b[1;36m0xFF\u001b[0m \u001b[1;33m==\u001b[0m \u001b[0mord\u001b[0m\u001b[1;33m(\u001b[0m\u001b[1;34m'q'\u001b[0m\u001b[1;33m)\u001b[0m\u001b[1;33m:\u001b[0m\u001b[1;33m\u001b[0m\u001b[1;33m\u001b[0m\u001b[0m\n\u001b[0m\u001b[0;32m     19\u001b[0m         \u001b[1;32mbreak\u001b[0m\u001b[1;33m\u001b[0m\u001b[1;33m\u001b[0m\u001b[0m\n\u001b[0;32m     20\u001b[0m \u001b[1;33m\u001b[0m\u001b[0m\n",
      "\u001b[1;31mKeyboardInterrupt\u001b[0m: "
     ]
    }
   ],
   "source": [
    "cam_idx = 0\n",
    "cap = cv2.VideoCapture(cam_idx)\n",
    "\n",
    "img_idx = 0\n",
    "sample_class = \"Not Sunny\" #<< from your model\n",
    "os.makedirs(f\"samples/{sample_class}\", exist_ok=True)\n",
    "while True:\n",
    "    # Capturing the frame\n",
    "    ret, frame = cap.read()\n",
    "\n",
    "\n",
    "    # print(x)\n",
    "    # print(frame.shape)\n",
    "    cv2.putText(frame, predicted_class, (480//2, 640//2), font, 1, (255, 0, 0), 2)\n",
    "    # cv2.imshow(\"vid frame\", frame)\n",
    "    cv2.imwrite(f\"samples/{sample_class}/sample_{img_idx}.jpg\", frame)\n",
    "    img_idx += 1\n",
    "    if cv2.waitKey(1) & 0xFF == ord('q'):\n",
    "        break\n",
    "\n",
    "cap.release()\n",
    "cv2.destroyAllWindows()"
   ]
  },
  {
   "cell_type": "code",
   "execution_count": 9,
   "metadata": {},
   "outputs": [],
   "source": [
    "cap.release()\n",
    "cv2.destroyAllWindows()"
   ]
  },
  {
   "cell_type": "code",
   "execution_count": null,
   "metadata": {},
   "outputs": [],
   "source": [
    "## implement model for your famiy\n",
    "cam_idx = 0\n",
    "cap = cv2.VideoCapture(cam_idx)\n",
    "\n",
    "img_idx = 0\n",
    "sample_class = \"Not Sunny\" #<< from your model\n",
    "os.makedirs(f\"samples/{sample_class}\", exist_ok=True)\n",
    "while True:\n",
    "    # Capturing the frame\n",
    "    ret, frame = cap.read()\n",
    "\n",
    "\n",
    "    # print(x)\n",
    "    # print(frame.shape)\n",
    "    # predicted_class = model(frame) ## << implement this model\n",
    "\n",
    "    # cv2.putText(frame, predicted_class, (480//2, 640//2), font, 1, (255, 0, 0), 2)\n",
    "    cv2.imshow(\"vid frame\", frame)\n",
    "    # cv2.imwrite(f\"samples/{sample_class}/sample_{img_idx}.jpg\", frame)\n",
    "    img_idx += 1\n",
    "    if cv2.waitKey(1) & 0xFF == ord('q'):\n",
    "        break\n",
    "\n",
    "cap.release()\n",
    "cv2.destroyAllWindows()"
   ]
  },
  {
   "cell_type": "markdown",
   "metadata": {},
   "source": [
    "## save video"
   ]
  },
  {
   "cell_type": "code",
   "execution_count": 10,
   "metadata": {},
   "outputs": [],
   "source": [
    "cam_idx = 0\n",
    "cap = cv2.VideoCapture(cam_idx)\n",
    "\n",
    "# Defing the codec and create VideoWriter object\n",
    "fourcc = cv2.VideoWriter_fourcc(*\"XVID\")\n",
    "out = cv2.VideoWriter(\"sample.avi\", fourcc, 20.0, (640, 480))\n",
    "\n",
    "while (cap.isOpened()):\n",
    "    # Capturing the frame\n",
    "    ret, frame = cap.read()\n",
    "\n",
    "    if ret == True:\n",
    "        out.write(frame)\n",
    "\n",
    "\n",
    "        cv2.imshow(\"vid frame\", frame)\n",
    "\n",
    "        if cv2.waitKey(1) & 0xFF == ord('q'):\n",
    "            break\n",
    "    else:\n",
    "        break\n",
    "\n",
    "cap.release()\n",
    "out.release()\n",
    "cv2.destroyAllWindows()"
   ]
  },
  {
   "cell_type": "code",
   "execution_count": null,
   "metadata": {},
   "outputs": [],
   "source": []
  }
 ],
 "metadata": {
  "interpreter": {
   "hash": "482df517ea92bd66bf0b75c42e77f1030db96b805fce8dc267e0b00bc0b8aa6e"
  },
  "kernelspec": {
   "display_name": "Python 3.7.13 (conda)",
   "language": "python",
   "name": "python3"
  },
  "language_info": {
   "codemirror_mode": {
    "name": "ipython",
    "version": 3
   },
   "file_extension": ".py",
   "mimetype": "text/x-python",
   "name": "python",
   "nbconvert_exporter": "python",
   "pygments_lexer": "ipython3",
   "version": "3.7.13"
  },
  "orig_nbformat": 4
 },
 "nbformat": 4,
 "nbformat_minor": 2
}
