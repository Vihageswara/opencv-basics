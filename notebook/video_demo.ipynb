{
 "cells": [
  {
   "cell_type": "code",
   "execution_count": 2,
   "metadata": {},
   "outputs": [],
   "source": [
    "import cv2\n",
    "import matplotlib.pyplot as plt\n",
    "import numpy as np\n",
    "import os\n",
    "from pathlib import Path"
   ]
  },
  {
   "cell_type": "code",
   "execution_count": 3,
   "metadata": {},
   "outputs": [],
   "source": [
    "cam_idx = 0\n",
    "cap = cv2.VideoCapture(cam_idx)\n",
    "\n",
    "while True:\n",
    "    # Capturing the frame\n",
    "    ret, frame = cap.read()\n",
    "    # print(ret)\n",
    "    # if not ret:\n",
    "    #     print(\"nothing captured\")\n",
    "    #     break\n",
    "\n",
    "\n",
    "    # Put text on image\n",
    "    font = cv2.FONT_ITALIC\n",
    "    predicted_class = \"Sunny\" #<< from your model\n",
    "    # print(x)\n",
    "    # print(frame.shape)\n",
    "    cv2.putText(frame, predicted_class, (480//2, 640//2), font, 1, (255, 0, 0), 2)\n",
    "    cv2.imshow(\"vid frame\", frame)\n",
    "    \n",
    "    if cv2.waitKey(1) & 0xFF == ord('q'):\n",
    "        break\n",
    "\n",
    "cap.release()\n",
    "cv2.destroyAllWindows()"
   ]
  },
  {
   "cell_type": "code",
   "execution_count": null,
   "metadata": {},
   "outputs": [],
   "source": []
  }
 ],
 "metadata": {
  "interpreter": {
   "hash": "482df517ea92bd66bf0b75c42e77f1030db96b805fce8dc267e0b00bc0b8aa6e"
  },
  "kernelspec": {
   "display_name": "Python 3.7.13 (conda)",
   "language": "python",
   "name": "python3"
  },
  "language_info": {
   "codemirror_mode": {
    "name": "ipython",
    "version": 3
   },
   "file_extension": ".py",
   "mimetype": "text/x-python",
   "name": "python",
   "nbconvert_exporter": "python",
   "pygments_lexer": "ipython3",
   "version": "3.7.13"
  },
  "orig_nbformat": 4
 },
 "nbformat": 4,
 "nbformat_minor": 2
}
